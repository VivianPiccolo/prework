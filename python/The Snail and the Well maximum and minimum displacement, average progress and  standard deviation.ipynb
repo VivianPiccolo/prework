{
 "cells": [
  {
   "cell_type": "code",
   "execution_count": 3,
   "metadata": {},
   "outputs": [
    {
     "name": "stdout",
     "output_type": "stream",
     "text": [
      "Snail wants to escape.\n",
      "Snail is rising.\n",
      "Snail is rising.\n",
      "Snail is rising.\n",
      "Snail is rising.\n",
      "Snail is rising.\n",
      "Snail is rising.\n",
      "Snail has escaped the well!\n",
      "Snail took 6 days to escape the well.\n"
     ]
    }
   ],
   "source": [
    "well_height = 125\n",
    "nightly_distance = 20\n",
    "snail_position = 0\n",
    "total_days = 0\n",
    "advance_cm = [30, 21, 33, 77, 44, 45, 23, 45, 12, 34, 55]\n",
    "maxposition = 0\n",
    "minposition = 0 \n",
    "\n",
    "print(\"Snail wants to escape.\")\n",
    "while snail_position <= well_height:\n",
    "    print(\"Snail is rising.\")\n",
    "    snail_position += advance_cm[total_days]\n",
    "    if snail_position <= well_height:\n",
    "       snail_position -= nightly_distance\n",
    "    total_days += 1\n",
    "    def maxminposition(advance_cm, num):\n",
    "        minposition = advance_cm.index(min(num))\n",
    "        maxposition = advance_cm.index(max(num)) \n",
    "        print (\"The maximum is at position::\", maxposition + 1) \n",
    "        print (\"The minimum is at position::\", minposition + 1)\n",
    "    \n",
    "print(\"Snail has escaped the well!\")\n",
    "print(\"Snail took\", total_days, \"days to escape the well.\")\n"
   ]
  },
  {
   "cell_type": "code",
   "execution_count": 104,
   "metadata": {},
   "outputs": [
    {
     "name": "stdout",
     "output_type": "stream",
     "text": [
      "Max displacement till the Snail gets out of the well :  57\n",
      "Min displacement till the Snail gets out of the well :  1\n"
     ]
    }
   ],
   "source": [
    "# maximum displacement And its minimum\n",
    "well_height = 125\n",
    "nightly_distance = 20\n",
    "snail_position = 0\n",
    "total_days = 0\n",
    "advance_cm = [30, 21, 33, 77, 44, 45, 23, 45, 12, 34, 55]\n",
    "maxposition = 0\n",
    "minposition = 0 \n",
    "\n",
    "import numpy\n",
    "array = numpy.array([advance_cm])\n",
    "array = array - 20\n",
    "\n",
    "#array.sort() [0, 1, 2, 3, 4, 5, 6, 7, 8, 9, 10]\n",
    "#trimmed = array[6:-1]\n",
    "#print (trimmed)\n",
    "\n",
    "print(\"Max displacement till the Snail gets out of the well : \",max(10,  1, 13, 57, 24, 25))\n",
    "print(\"Min displacement till the Snail gets out of the well : \",min(10,  1, 13, 57, 24, 25,  3, 25))\n",
    "\n",
    "\n"
   ]
  },
  {
   "cell_type": "code",
   "execution_count": 101,
   "metadata": {},
   "outputs": [
    {
     "name": "stdout",
     "output_type": "stream",
     "text": [
      "The average is  21.666666666666668\n"
     ]
    }
   ],
   "source": [
    "#average progress\n",
    "\n",
    "well_height = 125\n",
    "nightly_distance = 20\n",
    "snail_position = 0\n",
    "total_days = 0\n",
    "advance_cm = [30, 21, 33, 77, 44, 45, 23, 45, 12, 34, 55]\n",
    "maxposition = 0\n",
    "minposition = 0 \n",
    "list = [10,  1, 13, 57, 24, 25]\n",
    "\n",
    "def Average(list): \n",
    "    avg = sum(list)/len(list)\n",
    "    return avg\n",
    "average = Average(list)\n",
    "print(\"The average is \", average) "
   ]
  },
  {
   "cell_type": "code",
   "execution_count": 103,
   "metadata": {},
   "outputs": [
    {
     "name": "stdout",
     "output_type": "stream",
     "text": [
      "Standard Deviation is 19.510680835549195 \n"
     ]
    }
   ],
   "source": [
    "#standard deviation\n",
    "\n",
    "well_height = 125\n",
    "nightly_distance = 20\n",
    "snail_position = 0\n",
    "total_days = 0\n",
    "advance_cm = [30, 21, 33, 77, 44, 45, 23, 45, 12, 34, 55]\n",
    "maxposition = 0\n",
    "minposition = 0 \n",
    "list = [10,  1, 13, 57, 24, 25]\n",
    "\n",
    "import statistics\n",
    "statistics.stdev(list)\n",
    "print(\"Standard Deviation is % s \" \n",
    "                % (statistics.stdev(list)))"
   ]
  },
  {
   "cell_type": "code",
   "execution_count": null,
   "metadata": {},
   "outputs": [],
   "source": []
  }
 ],
 "metadata": {
  "kernelspec": {
   "display_name": "Python 3",
   "language": "python",
   "name": "python3"
  },
  "language_info": {
   "codemirror_mode": {
    "name": "ipython",
    "version": 3
   },
   "file_extension": ".py",
   "mimetype": "text/x-python",
   "name": "python",
   "nbconvert_exporter": "python",
   "pygments_lexer": "ipython3",
   "version": "3.7.6"
  }
 },
 "nbformat": 4,
 "nbformat_minor": 4
}
