{
 "cells": [
  {
   "cell_type": "code",
   "execution_count": 3,
   "metadata": {},
   "outputs": [
    {
     "name": "stdout",
     "output_type": "stream",
     "text": [
      "Minimum temperature:  0\n"
     ]
    }
   ],
   "source": [
    "# assign a variable to the list of temperatures\n",
    "\n",
    "# 1. Calculate the minimum of the list and print the value using print()\n",
    "temperatures_C = [33,66,65,0,59,60,62,64,70,76,80,69,80,83,68,79,61,53,50,49,53,48,45,39]\n",
    "\n",
    "\n",
    "print('Minimum temperature: ', min(temperatures_C))"
   ]
  },
  {
   "cell_type": "code",
   "execution_count": 4,
   "metadata": {},
   "outputs": [
    {
     "name": "stdout",
     "output_type": "stream",
     "text": [
      "Minimum temperature:  83\n"
     ]
    }
   ],
   "source": [
    "# 2. Calculate the maximum of the list and print the value using print()\n",
    "\n",
    "print('Maximum temperature: ', max(temperatures_C))\n"
   ]
  },
  {
   "cell_type": "code",
   "execution_count": 57,
   "metadata": {},
   "outputs": [
    {
     "name": "stdout",
     "output_type": "stream",
     "text": [
      "Temperatures greater than 70ºC:  [76, 80, 80, 83, 79]\n",
      "Count temperatures greater than 70C:  5\n"
     ]
    }
   ],
   "source": [
    "# 3. Items in the list that are greater than 70ºC and print the result\n",
    "count = []\n",
    "temperatures_C = [33,66,65,0,59,60,62,64,70,76,80,69,80,83,68,79,61,53,50,49,53,48,45,39]\n",
    "count_temperature =  0 \n",
    "size = len(temperatures_C)\n",
    "compare_temperature = 0\n",
    "\n",
    "while (compare_temperature < size):\n",
    "    if temperatures_C[compare_temperature] > 70:\n",
    "        count_temperature = count_temperature + 1\n",
    "        count.append(temperatures_C[compare_temperature])\n",
    "    compare_temperature = compare_temperature + 1\n",
    "        \n",
    "print('Temperatures greater than 70ºC: ', count)\n",
    "print('Count temperatures greater than 70C: ', count_temperature)\n"
   ]
  },
  {
   "cell_type": "code",
   "execution_count": 58,
   "metadata": {},
   "outputs": [
    {
     "name": "stdout",
     "output_type": "stream",
     "text": [
      "58.833333333333336\n"
     ]
    }
   ],
   "source": [
    "# 4. Calculate the mean temperature throughout the day and print the result\n",
    "temperatures_C = [33,66,65,0,59,60,62,64,70,76,80,69,80,83,68,79,61,53,50,49,53,48,45,39]\n",
    "\n",
    "print(sum(temperatures_C)/len(temperatures_C))\n"
   ]
  },
  {
   "cell_type": "code",
   "execution_count": 77,
   "metadata": {
    "scrolled": false
   },
   "outputs": [
    {
     "name": "stdout",
     "output_type": "stream",
     "text": [
      "62.0\n",
      "62.0\n"
     ]
    }
   ],
   "source": [
    "#If there was a sensor failure at 03:00 and we did not capture the data, \n",
    "#how would you estimate the value that we lack? Correct that value in the list of temperatures.\n",
    "\n",
    "temperatures_C = [33,66,65,0,59,60,62,64,70,76,80,69,80,83,68,79,61,53,50,49,53,48,45,39]\n",
    "\n",
    "# 5.1 Solve the fault in the sensor by estimating a value\n",
    "\n",
    "print(sum(temperatures_C[2:5])/(2))\n",
    "\n",
    "\n",
    "# 5.2 Update of the estimated value at 03:00 on the list\n",
    "\n",
    "temperatures_C[3] = (sum(temperatures_C[2:5])/(2))\n",
    "print (temperatures_C[3])\n"
   ]
  },
  {
   "cell_type": "code",
   "execution_count": 11,
   "metadata": {},
   "outputs": [
    {
     "name": "stdout",
     "output_type": "stream",
     "text": [
      "Temperatures in Farenheit:  [91.4, 150.8, 149.0, 143.60000000000002, 138.2, 140.0, 143.60000000000002, 147.2, 158.0, 168.8, 176.0, 156.2, 176.0, 181.4, 154.4, 174.20000000000002, 141.8, 127.4, 122.0, 120.2, 127.4, 118.4, 113.0, 102.2]\n"
     ]
    }
   ],
   "source": [
    "# Bonus: convert the list of ºC to ºFarenheit: F = 1.8 * C + 32\n",
    "temperatures_C = [33,66,65,62,59,60,62,64,70,76,80,69,80,83,68,79,61,53,50,49,53,48,45,39]\n",
    "temperatures_F = []\n",
    "\n",
    "for i in temperatures_C:\n",
    "    temperatures_F.append(1.8 * i + 32)\n",
    "print('Temperatures in Farenheit: ', temperatures_F)"
   ]
  },
  {
   "cell_type": "code",
   "execution_count": 60,
   "metadata": {},
   "outputs": [
    {
     "name": "stdout",
     "output_type": "stream",
     "text": [
      "More than 4 hours with temperatures greater than or equal to 70ºC:  False\n",
      "List of 4 hours with temperatures greater than or equal to 70ºC: []\n",
      "Temperature higher than 80ºC: 1\n",
      "Daily average temperature: 61.416666666666664\n",
      "Change the cooling system:  True\n"
     ]
    }
   ],
   "source": [
    "# Make a decision\n",
    "#more than 4 hours with temperatures greater than or equal to 70ºC\n",
    "#some temperature higher than 80ºC\n",
    "#average was higher than 65ºC throughout the day. If any of these three is met, the cooling system must be changed.\n",
    "\n",
    "count = []\n",
    "temperatures_C = [33,66,65,62,59,60,62,64,70,76,80,69,80,83,68,79,61,53,50,49,53,48,45,39]\n",
    "count_temperature =  0 \n",
    "size = len(temperatures_C)\n",
    "compare_temperature = 0\n",
    "dangerous_temperature = False\n",
    "daily_average = (sum(temperatures_C)/len(temperatures_C)) \n",
    "n = 4\n",
    "x = 70\n",
    "\n",
    "def find_n_consecutive_greater_than_x(temperatures_C, n, x):\n",
    "    num_greater_than_x = 0\n",
    "    for index, val in enumerate(temperatures_C):\n",
    "        if val >= x:\n",
    "            num_greater_than_x += 1\n",
    "            if num_greater_than_x == n:\n",
    "                yield tuple(temperatures_C[index-n+1:index+1])\n",
    "                num_greater_than_x -= 1\n",
    "                dangerous_temperature = True\n",
    "        else:\n",
    "            num_greater_than_x = 0\n",
    "            dangerous_temperature = False\n",
    "print('More than 4 hours with temperatures greater than or equal to 70ºC: ', dangerous_temperature)\n",
    "print('List of 4 hours with temperatures greater than or equal to 70ºC:', list(find_n_consecutive_greater_than_x(temperatures_C, n, x)))\n",
    "\n",
    "while (compare_temperature < size):\n",
    "        if temperatures_C[compare_temperature] > 80:\n",
    "            count_temperature = count_temperature + 1\n",
    "        count.append(temperatures_C[compare_temperature])\n",
    "        dangerous_temperature = True\n",
    "        if daily_average > 65:\n",
    "            dangerous_temperature = True\n",
    "        compare_temperature = compare_temperature + 1\n",
    "\n",
    "print('Temperature higher than 80ºC:', count_temperature)\n",
    "print('Daily average temperature:', daily_average)\n",
    "print('Change the cooling system: ', dangerous_temperature)\n",
    "\n",
    "# Print True or False depending on whether you would change the cooling system or not"
   ]
  },
  {
   "cell_type": "code",
   "execution_count": 1,
   "metadata": {
    "scrolled": true
   },
   "outputs": [
    {
     "name": "stdout",
     "output_type": "stream",
     "text": [
      "Hour when the emperature exceeded 70ºC: 9\n",
      "Hour when the emperature exceeded 70ºC: 10\n",
      "Hour when the emperature exceeded 70ºC: 12\n",
      "Hour when the emperature exceeded 70ºC: 13\n",
      "Hour when the emperature exceeded 70ºC: 15\n"
     ]
    }
   ],
   "source": [
    "#BONUS Future improvements\n",
    "#We want the hours (not the temperatures) whose temperature exceeds 70ºC\n",
    "#Condition that those hours are more than 4 consecutive and consecutive, not simply the sum of the whole set. Is this condition met?\n",
    "#Average of each of the lists (ºC and ºF). How they relate?\n",
    "#Standard deviation of each of the lists. How they relate?\n",
    "\n",
    "# 1. We want the hours (not the temperatures) whose temperature exceeds 70ºC\n",
    "\n",
    "\n",
    "temperatures_C = [33,66,65,62,59,60,62,64,70,76,80,69,80,83,68,79,61,53,50,49,53,48,45,39]\n",
    "position=0\n",
    "\n",
    "\n",
    "for position, item in enumerate(temperatures_C):\n",
    "    if item > 70:\n",
    "        print('Hour when the emperature exceeded 70ºC:', position)\n"
   ]
  },
  {
   "cell_type": "code",
   "execution_count": 61,
   "metadata": {},
   "outputs": [
    {
     "name": "stdout",
     "output_type": "stream",
     "text": [
      "More than 4 hours with temperatures greater than or equal to 70ºC:  False\n",
      "List of 4 hours with temperatures greater than or equal to 70ºC: []\n"
     ]
    }
   ],
   "source": [
    "# 2. Condition that those hours are more than 4 consecutive and consecutive, not simply the sum of the whole set. \n",
    "\n",
    "temperatures_C = [33,66,65,62,59,60,62,64,70,76,80,69,80,83,68,79,61,53,50,49,53,48,45,39]\n",
    "n = 4\n",
    "x = 70\n",
    "dangerous_temperature = False\n",
    "\n",
    "\n",
    "def find_n_consecutive_greater_than_x(temperatures_C, n, x):\n",
    "    num_greater_than_x = 0\n",
    "    for index, val in enumerate(temperatures_C):\n",
    "        if val >= x:\n",
    "            num_greater_than_x += 1\n",
    "            if num_greater_than_x == n:\n",
    "                yield tuple(temperatures_C[index-n+1:index+1])\n",
    "                num_greater_than_x -= 1\n",
    "                dangerous_temperature = True\n",
    "        else:\n",
    "            num_greater_than_x = 0\n",
    "            dangerous_temperature = False\n",
    "print('More than 4 hours with temperatures greater than or equal to 70ºC: ', dangerous_temperature)\n",
    "print('List of 4 hours with temperatures greater than or equal to 70ºC:', list(find_n_consecutive_greater_than_x(temperatures_C, n, x)))\n",
    "\n"
   ]
  },
  {
   "cell_type": "code",
   "execution_count": 29,
   "metadata": {},
   "outputs": [
    {
     "name": "stdout",
     "output_type": "stream",
     "text": [
      "Daily average temperature in ºC 61.416666666666664\n",
      "Daily average temperature in ºF 142.54999999999998\n",
      "How they relate? The relation between C and F shows that both Celsius and Fahrenheit are directly proportional to each other.\n"
     ]
    }
   ],
   "source": [
    "# 3. Average of each of the lists (ºC and ºF). How they relate?\n",
    "\n",
    "temperatures_C = [33,66,65,62,59,60,62,64,70,76,80,69,80,83,68,79,61,53,50,49,53,48,45,39]\n",
    "daily_average_C= (sum(temperatures_C)/len(temperatures_C))\n",
    "print('Daily average temperature in ºC', daily_average_C)\n",
    "\n",
    "temperatures_F = [91.4, 150.8, 149.0, 143.60000000000002, 138.2, 140.0, 143.60000000000002, 147.2, 158.0, 168.8, 176.0, 156.2, 176.0, 181.4, 154.4, 174.20000000000002, 141.8, 127.4, 122.0, 120.2, 127.4, 118.4, 113.0, 102.2]\n",
    "daily_average_F= (sum(temperatures_F)/len(temperatures_F))\n",
    "print('Daily average temperature in ºF', daily_average_F)\n",
    "\n",
    "print('How they relate? The relation between C and F shows that both Celsius and Fahrenheit are directly proportional to each other.')"
   ]
  },
  {
   "cell_type": "code",
   "execution_count": 28,
   "metadata": {},
   "outputs": [
    {
     "name": "stdout",
     "output_type": "stream",
     "text": [
      "Standard Deviation ºC is: 13.331612207755333 \n",
      "Standard Deviation ºF is: 23.9969019739596 \n",
      "How they relate? The relation between C and F shows that both Celsius and Fahrenheit are directly proportional to each other.\n"
     ]
    }
   ],
   "source": [
    "# 4. Standard deviation of each of the lists. How they relate?\n",
    "\n",
    "temperatures_C = [33,66,65,62,59,60,62,64,70,76,80,69,80,83,68,79,61,53,50,49,53,48,45,39]\n",
    "temperatures_F = [91.4, 150.8, 149.0, 143.60000000000002, 138.2, 140.0, 143.60000000000002, 147.2, 158.0, 168.8, 176.0, 156.2, 176.0, 181.4, 154.4, 174.20000000000002, 141.8, 127.4, 122.0, 120.2, 127.4, 118.4, 113.0, 102.2]\n",
    "import statistics\n",
    "statistics.stdev(temperatures_C)\n",
    "print(\"Standard Deviation ºC is: % s \" \n",
    "                % (statistics.stdev(temperatures_C)))\n",
    "\n",
    "import statistics\n",
    "statistics.stdev(temperatures_F)\n",
    "print(\"Standard Deviation ºF is: % s \" \n",
    "                % (statistics.stdev(temperatures_F)))\n",
    "\n",
    "print('How they relate? The relation between C and F shows that both Celsius and Fahrenheit are directly proportional to each other.')"
   ]
  }
 ],
 "metadata": {
  "kernelspec": {
   "display_name": "Python 3",
   "language": "python",
   "name": "python3"
  },
  "language_info": {
   "codemirror_mode": {
    "name": "ipython",
    "version": 3
   },
   "file_extension": ".py",
   "mimetype": "text/x-python",
   "name": "python",
   "nbconvert_exporter": "python",
   "pygments_lexer": "ipython3",
   "version": "3.7.6"
  }
 },
 "nbformat": 4,
 "nbformat_minor": 4
}
