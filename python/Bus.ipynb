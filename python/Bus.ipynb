{
 "cells": [
  {
   "cell_type": "code",
   "execution_count": 157,
   "metadata": {},
   "outputs": [
    {
     "name": "stdout",
     "output_type": "stream",
     "text": [
      "Number of Passengers at Final Stop: 4\n",
      "Number of Stops: 9\n",
      "Bus occupation per stop: 10\n",
      "Bus occupation per stop: 13\n",
      "Bus occupation per stop: 11\n",
      "Bus occupation per stop: 10\n",
      "Bus occupation per stop: 14\n",
      "Bus occupation per stop: 10\n",
      "Bus occupation per stop: 7\n",
      "Bus occupation per stop: 5\n",
      "Bus occupation per stop: 4\n"
     ]
    }
   ],
   "source": [
    "stops = [(10, 0), (4, 1), (3, 5), (3, 4), (5, 1), (1, 5), (5, 8), (4, 6), (2, 3)]\n",
    "num_passengers = (0)\n",
    "total_passengers = 0\n",
    "num_stops = 0\n",
    "max_occupation = 0\n",
    "bus_occupation = 0\n",
    "\n",
    "for stop in stops:\n",
    "    num_passengers += stop[0] - stop[1] \n",
    "    if total_passengers >= 100:\n",
    "        max_occupation = True\n",
    "        num_stops += 1 \n",
    "        break\n",
    "    elif total_passengers < 100:\n",
    "        num_stops += 1\n",
    "print(\"Number of Passengers at Final Stop:\", (num_passengers))\n",
    "print(\"Number of Stops:\", (num_stops))\n",
    "\n",
    "for stop in stops:\n",
    "    bus_occupation += stop[0] - stop[1] \n",
    "    print(\"Bus occupation per stop:\", bus_occupation)\n"
   ]
  },
  {
   "cell_type": "code",
   "execution_count": 155,
   "metadata": {},
   "outputs": [
    {
     "name": "stdout",
     "output_type": "stream",
     "text": [
      "Maximum Bus Occupation: 14\n"
     ]
    }
   ],
   "source": [
    "#Find the maximum occupation of the bus.\n",
    "\n",
    "stops = [(10, 0), (4, 1), (3, 5), (3, 4), (5, 1), (1, 5), (5, 8), (4, 6), (2, 3)]\n",
    "num_passengers = (0)\n",
    "total_passengers = 0\n",
    "num_stops = 0\n",
    "bus_occupation = [10, 13, 11, 10, 14, 10, 7, 5, 4]\n",
    "max_occupation = max(bus_occupation)\n",
    "\n",
    "print(\"Maximum Bus Occupation:\", (max_occupation))\n",
    "\n",
    "\n"
   ]
  },
  {
   "cell_type": "code",
   "execution_count": 168,
   "metadata": {},
   "outputs": [
    {
     "name": "stdout",
     "output_type": "stream",
     "text": [
      "Average Occupation is: 9.333333333333334\n"
     ]
    }
   ],
   "source": [
    "#Calculate the average occupation\n",
    "\n",
    "bus_occupation = [10, 13, 11, 10, 14, 10, 7, 5, 4]\n",
    "\n",
    "import statistics\n",
    "statistics.mean(bus_occupation)\n",
    "print(\"Average Occupation is:\", (statistics.mean(bus_occupation)))"
   ]
  },
  {
   "cell_type": "code",
   "execution_count": 167,
   "metadata": {},
   "outputs": [
    {
     "name": "stdout",
     "output_type": "stream",
     "text": [
      "Standard Deviation is 3.391164991562634 \n"
     ]
    }
   ],
   "source": [
    "#standard deviation\n",
    "\n",
    "bus_occupation = [10, 13, 11, 10, 14, 10, 7, 5, 4]\n",
    "\n",
    "print(\"Standard Deviation is % s \" \n",
    "                % (statistics.stdev(bus_occupation))) "
   ]
  },
  {
   "cell_type": "code",
   "execution_count": 3,
   "metadata": {},
   "outputs": [
    {
     "name": "stdout",
     "output_type": "stream",
     "text": [
      "Number of Passengers at Final Stop: 4\n",
      "Number of Stops: 9\n"
     ]
    },
    {
     "ename": "TypeError",
     "evalue": "can only concatenate tuple (not \"int\") to tuple",
     "output_type": "error",
     "traceback": [
      "\u001b[1;31m---------------------------------------------------------------------------\u001b[0m",
      "\u001b[1;31mTypeError\u001b[0m                                 Traceback (most recent call last)",
      "\u001b[1;32m<ipython-input-3-f0baf7c7e58e>\u001b[0m in \u001b[0;36m<module>\u001b[1;34m\u001b[0m\n\u001b[0;32m     23\u001b[0m \u001b[1;33m\u001b[0m\u001b[0m\n\u001b[0;32m     24\u001b[0m \u001b[1;32mfor\u001b[0m \u001b[0mstop\u001b[0m \u001b[1;32min\u001b[0m \u001b[0mstops\u001b[0m\u001b[1;33m:\u001b[0m\u001b[1;33m\u001b[0m\u001b[1;33m\u001b[0m\u001b[0m\n\u001b[1;32m---> 25\u001b[1;33m     \u001b[0mbus_occupation\u001b[0m \u001b[1;33m+=\u001b[0m \u001b[0mstop\u001b[0m\u001b[1;33m[\u001b[0m\u001b[1;36m0\u001b[0m\u001b[1;33m]\u001b[0m \u001b[1;33m-\u001b[0m \u001b[0mstop\u001b[0m\u001b[1;33m[\u001b[0m\u001b[1;36m1\u001b[0m\u001b[1;33m]\u001b[0m\u001b[1;33m\u001b[0m\u001b[1;33m\u001b[0m\u001b[0m\n\u001b[0m\u001b[0;32m     26\u001b[0m     \u001b[0mbus_occupation\u001b[0m\u001b[1;33m.\u001b[0m\u001b[0mappend\u001b[0m\u001b[1;33m\u001b[0m\u001b[1;33m\u001b[0m\u001b[0m\n\u001b[0;32m     27\u001b[0m     \u001b[0mprint\u001b[0m\u001b[1;33m(\u001b[0m\u001b[1;34m\"Bus occupation per stop:\"\u001b[0m\u001b[1;33m,\u001b[0m \u001b[0mbus_occupation\u001b[0m\u001b[1;33m)\u001b[0m\u001b[1;33m\u001b[0m\u001b[1;33m\u001b[0m\u001b[0m\n",
      "\u001b[1;31mTypeError\u001b[0m: can only concatenate tuple (not \"int\") to tuple"
     ]
    }
   ],
   "source": [
    "#great, so you've gotten the correct output using your own way to solve it\n",
    "\n",
    "#if you have time to revisit this one try to make the bus occupation a list \n",
    "#by assigning bus_occupation as an empty list and using .append within the loop to add the occupation at each stop to the list\n",
    "\n",
    "stops = [(10, 0), (4, 1), (3, 5), (3, 4), (5, 1), (1, 5), (5, 8), (4, 6), (2, 3)]\n",
    "num_passengers = (0)\n",
    "total_passengers = 0\n",
    "num_stops = 0\n",
    "max_occupation = 0\n",
    "bus_occupation = ()\n",
    "\n",
    "for stop in stops:\n",
    "    num_passengers += stop[0] - stop[1] \n",
    "    if total_passengers >= 100:\n",
    "        max_occupation = True\n",
    "        num_stops += 1 \n",
    "        break\n",
    "    elif total_passengers < 100:\n",
    "        num_stops += 1\n",
    "print(\"Number of Passengers at Final Stop:\", (num_passengers))\n",
    "print(\"Number of Stops:\", (num_stops))\n",
    "\n",
    "for stop in stops:\n",
    "    bus_occupation += stop[0] - stop[1]\n",
    "    bus_occupation.append\n",
    "    print(\"Bus occupation per stop:\", bus_occupation)\n"
   ]
  },
  {
   "cell_type": "code",
   "execution_count": null,
   "metadata": {},
   "outputs": [],
   "source": [
    "\n",
    "\n"
   ]
  },
  {
   "cell_type": "code",
   "execution_count": null,
   "metadata": {},
   "outputs": [],
   "source": []
  }
 ],
 "metadata": {
  "kernelspec": {
   "display_name": "Python 3",
   "language": "python",
   "name": "python3"
  },
  "language_info": {
   "codemirror_mode": {
    "name": "ipython",
    "version": 3
   },
   "file_extension": ".py",
   "mimetype": "text/x-python",
   "name": "python",
   "nbconvert_exporter": "python",
   "pygments_lexer": "ipython3",
   "version": "3.7.6"
  }
 },
 "nbformat": 4,
 "nbformat_minor": 4
}
