{
 "cells": [
  {
   "cell_type": "code",
   "execution_count": 115,
   "metadata": {
    "scrolled": true
   },
   "outputs": [
    {
     "name": "stdout",
     "output_type": "stream",
     "text": [
      "Gandalf vs Saruman.\n",
      "Saruman wins.\n",
      "Saruman wins.\n",
      "Gandalf wins.\n",
      "Saruman wins.\n",
      "Gandalf wins.\n",
      "Gandalf wins.\n",
      "Saruman wins.\n",
      "Gandalf wins.\n",
      "Gandalf wins.\n",
      "Gandalf wins.\n",
      "Gandalf wins.\n",
      "Saruman won 4 times and Gandalf won 6 times.\n"
     ]
    }
   ],
   "source": [
    "gandalf = [10, 11, 13, 30, 22, 11, 10, 33, 22, 22]\n",
    "saruman = [23, 66, 12, 43, 12, 10, 44, 23, 12, 17]\n",
    "spells = len(gandalf)\n",
    "gandalf_wins = 0\n",
    "saruman_wins = 0\n",
    "\n",
    "print(\"Gandalf vs Saruman.\")\n",
    "\n",
    "for n in range(spells):\n",
    "    if gandalf[n] < saruman[n]:\n",
    "        saruman_wins += 1\n",
    "        print(\"Saruman wins.\")\n",
    "    elif gandalf[n] > saruman[n]:\n",
    "        gandalf_wins += 1\n",
    "        print(\"Gandalf wins.\")\n",
    "        \n",
    "if saruman_wins > gandalf_wins:\n",
    "        print(\"Saruman wins.\")\n",
    "elif saruman_wins < gandalf_wins:\n",
    "        print(\"Gandalf wins.\")\n",
    "else: \n",
    "        gandalf_wins = saruman_wins\n",
    "        print(\"It's a tie.\")    \n",
    "        \n",
    "print(\"Saruman won\", saruman_wins, \"times and Gandalf won\", gandalf_wins, \"times.\")\n",
    "        \n",
    "    "
   ]
  },
  {
   "cell_type": "code",
   "execution_count": null,
   "metadata": {},
   "outputs": [],
   "source": []
  },
  {
   "cell_type": "code",
   "execution_count": null,
   "metadata": {},
   "outputs": [],
   "source": []
  }
 ],
 "metadata": {
  "kernelspec": {
   "display_name": "Python 3",
   "language": "python",
   "name": "python3"
  },
  "language_info": {
   "codemirror_mode": {
    "name": "ipython",
    "version": 3
   },
   "file_extension": ".py",
   "mimetype": "text/x-python",
   "name": "python",
   "nbconvert_exporter": "python",
   "pygments_lexer": "ipython3",
   "version": "3.7.6"
  }
 },
 "nbformat": 4,
 "nbformat_minor": 4
}
