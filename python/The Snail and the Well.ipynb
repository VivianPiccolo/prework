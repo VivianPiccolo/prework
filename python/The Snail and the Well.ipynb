{
 "cells": [
  {
   "cell_type": "code",
   "execution_count": 3,
   "metadata": {},
   "outputs": [
    {
     "name": "stdout",
     "output_type": "stream",
     "text": [
      "Snail wants to escape.\n",
      "Snail is rising.\n",
      "Snail is rising.\n",
      "Snail is rising.\n",
      "Snail is rising.\n",
      "Snail is rising.\n",
      "Snail is rising.\n",
      "Snail is rising.\n",
      "Snail is rising.\n",
      "Snail is rising.\n",
      "Snail is rising.\n",
      "Snail is rising.\n",
      "Snail has escaped the well!\n",
      "Snail took 11 days to escape the well.\n"
     ]
    }
   ],
   "source": [
    "well_height = 125\n",
    "daily_distance = 30\n",
    "nightly_distance = 20\n",
    "snail_position = 0\n",
    "total_days = 0\n",
    "print(\"Snail wants to escape.\")\n",
    "while snail_position <= well_height:\n",
    "    print(\"Snail is rising.\")\n",
    "    snail_position += daily_distance\n",
    "    if snail_position <= well_height:\n",
    "        snail_position -= nightly_distance\n",
    "    total_days += 1\n",
    "print(\"Snail has escaped the well!\")\n",
    "print(\"Snail took\", total_days, \"days to escape the well.\")\n"
   ]
  },
  {
   "cell_type": "code",
   "execution_count": 19,
   "metadata": {},
   "outputs": [
    {
     "name": "stdout",
     "output_type": "stream",
     "text": [
      "Snail wants to escape.\n",
      "Snail is rising.\n",
      "Snail is rising.\n",
      "Snail is rising.\n",
      "Snail is rising.\n",
      "Snail is rising.\n",
      "Snail is rising.\n",
      "Snail has escaped the well!\n",
      "Snail took 6 days to escape the well.\n"
     ]
    }
   ],
   "source": [
    "well_height = 125\n",
    "nightly_distance = 20\n",
    "snail_position = 0\n",
    "total_days = 0\n",
    "advance_cm = [30, 21, 33, 77, 44, 45, 23, 45, 12, 34, 55]\n",
    "\n",
    "print(\"Snail wants to escape.\")\n",
    "while snail_position <= well_height:\n",
    "    print(\"Snail is rising.\")\n",
    "    snail_position += advance_cm[total_days]\n",
    "    if snail_position <= well_height:\n",
    "        snail_position -= nightly_distance\n",
    "    total_days += 1\n",
    "    \n",
    "print(\"Snail has escaped the well!\")\n",
    "print(\"Snail took\", total_days, \"days to escape the well.\")\n",
    "\n",
    "\n",
    "\n",
    "\n",
    "\n",
    "\n"
   ]
  },
  {
   "cell_type": "code",
   "execution_count": null,
   "metadata": {},
   "outputs": [],
   "source": []
  },
  {
   "cell_type": "code",
   "execution_count": null,
   "metadata": {},
   "outputs": [],
   "source": []
  },
  {
   "cell_type": "code",
   "execution_count": null,
   "metadata": {},
   "outputs": [],
   "source": []
  }
 ],
 "metadata": {
  "kernelspec": {
   "display_name": "Python 3",
   "language": "python",
   "name": "python3"
  },
  "language_info": {
   "codemirror_mode": {
    "name": "ipython",
    "version": 3
   },
   "file_extension": ".py",
   "mimetype": "text/x-python",
   "name": "python",
   "nbconvert_exporter": "python",
   "pygments_lexer": "ipython3",
   "version": "3.7.6"
  }
 },
 "nbformat": 4,
 "nbformat_minor": 4
}
